{
  "cells": [
    {
      "cell_type": "markdown",
      "metadata": {
        "collapsed": false,
        "id": "e--vCkoCHhhv"
      },
      "source": [
        "## Assignment 1 Part 2 : Functions, conditional statements, and iteration in Python\n",
        "\n",
        "\n",
        "\n",
        "In this notebook, you are first going to learn about functions.  Functions are in some ways the bread-and-butter of Python programming.  They make code re-usable, as they allow you to apply your code in other contexts and circumstances.  You can think about functions this way: while variables store elements of your code (e.g. numbers, strings, lists), functions can store entire chunks of your code, which can in turn be re-used as necessary.  \n",
        "\n",
        "Functions include a __definition__ and __parameters__, and are specified with `def` as follows:\n",
        "\n",
        "```python\n",
        "def myfunction(parameter1, parameter2, parameter3):\n",
        "    \"\"\"Your code goes here\"\"\"\n",
        "```\n",
        "\n",
        "The `def` command allows you to introduce a function definition.  You then specify the __parameters__ within parentheses following the function name, which are like variables that operate within your function.  A colon (`:`) then follows the parentheses, and the contents of the function are found beginning on the next line as an indented code block (more on indentation soon).  \n",
        "\n",
        "After you've defined the function, it can be __called__ by supplying __arguments__ to the parameters you've defined, again within parentheses.  For example:\n",
        "\n",
        "```python\n",
        "myfunction(arg1, arg2, arg3)\n",
        "```\n",
        "\n",
        "So how does this all work?  Let's try it out!\n",
        "\n",
        "At a very basic level, you can define a function without parameters - an _empty_ function.  This function will return whatever you've specified after it is called.  "
      ]
    },
    {
      "cell_type": "code",
      "execution_count": 7,
      "metadata": {
        "id": "rtpUMsD-Hhhx"
      },
      "outputs": [],
      "source": [
        "def print_five():\n",
        "    print(5)"
      ]
    },
    {
      "cell_type": "markdown",
      "metadata": {
        "collapsed": false,
        "id": "9TYmwfSSHhhy"
      },
      "source": [
        "Now, we call the function:    "
      ]
    },
    {
      "cell_type": "code",
      "execution_count": 8,
      "metadata": {
        "id": "XAUXmd-2Hhhy",
        "outputId": "d3a7b7a3-0ae1-4ba7-80f6-f45de9828198"
      },
      "outputs": [
        {
          "name": "stdout",
          "output_type": "stream",
          "text": [
            "5\n"
          ]
        }
      ],
      "source": [
        "print_five()"
      ]
    },
    {
      "cell_type": "markdown",
      "metadata": {
        "collapsed": false,
        "id": "OIJWX98uHhhz"
      },
      "source": [
        "Notice what happened when we called our `print_five` function.  As the function has no parameters, it will always give us back 5.  Naturally, you're going to want your functions to get more complicated than this - which is what parameters are for.   Let's try out a function that has a parameter and performs a basic mathematical operation.  "
      ]
    },
    {
      "cell_type": "code",
      "execution_count": 9,
      "metadata": {
        "id": "Au6eIuluHhhz",
        "outputId": "04946e91-973e-4e60-f46c-78fea3d6af1c"
      },
      "outputs": [
        {
          "name": "stdout",
          "output_type": "stream",
          "text": [
            "5.5\n"
          ]
        }
      ],
      "source": [
        "def divide_by_two(x):\n",
        "    print(x / 2)\n",
        "\n",
        "divide_by_two(11)"
      ]
    },
    {
      "cell_type": "markdown",
      "metadata": {
        "collapsed": false,
        "id": "ezm2iugLHhhz"
      },
      "source": [
        "The function itself is fairly straightforward.  Our new function, `divide_by_two`, takes a number, which we are calling `x`.  It divides `x` by two, and then prints the result for us.  By adding a parameter, however, our function is now re-usable.  Let's try it out:"
      ]
    },
    {
      "cell_type": "code",
      "execution_count": 10,
      "metadata": {
        "id": "TnfWF0aaHhhz",
        "outputId": "2f744e08-d188-489a-9dde-514626b30fac"
      },
      "outputs": [
        {
          "name": "stdout",
          "output_type": "stream",
          "text": [
            "27.5\n"
          ]
        }
      ],
      "source": [
        "divide_by_two(55)"
      ]
    },
    {
      "cell_type": "code",
      "execution_count": 11,
      "metadata": {
        "id": "KJbJNoAgHhhz"
      },
      "outputs": [
        {
          "name": "stdout",
          "output_type": "stream",
          "text": [
            "Sadia\n"
          ]
        }
      ],
      "source": [
        "## Now it's your turn!  Write a new, empty function that prints your name when called.  Call the function.\n",
        "def name():\n",
        "    print(\"Sadia\")\n",
        "name()\n"
      ]
    },
    {
      "cell_type": "markdown",
      "metadata": {
        "collapsed": false,
        "id": "ij673t5aHhhz"
      },
      "source": [
        "### The 'return' statement\n",
        "\n",
        "In the above examples, we've created functions that print some result to our screen when called.  Often, however, we want our functions to work as part of a larger workflow.  This is accomplished with the `return` statement, which allows the output of functions to be assigned to a new variable.  \n",
        "\n",
        "For example, let's try to assign the result of the `divide_by_two` function to a new variable:"
      ]
    },
    {
      "cell_type": "code",
      "execution_count": 12,
      "metadata": {
        "id": "HmrJTFOFHhh0",
        "outputId": "3d30b618-960b-4692-aaad-56a216bd899b"
      },
      "outputs": [
        {
          "name": "stdout",
          "output_type": "stream",
          "text": [
            "6.0\n"
          ]
        }
      ],
      "source": [
        "y = divide_by_two(12)"
      ]
    },
    {
      "cell_type": "markdown",
      "metadata": {
        "collapsed": false,
        "id": "_rT0-s8qHhh0"
      },
      "source": [
        "And when we ask Python for the value of y:"
      ]
    },
    {
      "cell_type": "code",
      "execution_count": 13,
      "metadata": {
        "id": "BZlf7QkUHhh0"
      },
      "outputs": [],
      "source": [
        "y"
      ]
    },
    {
      "cell_type": "markdown",
      "metadata": {
        "collapsed": false,
        "id": "B7pozNKCHhh0"
      },
      "source": [
        "We don't get anything back.  Now, let's try modifying the function with `return` used instead of `print`.  "
      ]
    },
    {
      "cell_type": "code",
      "execution_count": 14,
      "metadata": {
        "id": "GCmOchSEHhh0",
        "outputId": "20a5cb85-8591-44a1-c14a-c909fa6b5891"
      },
      "outputs": [
        {
          "data": {
            "text/plain": [
              "6.0"
            ]
          },
          "execution_count": 14,
          "metadata": {},
          "output_type": "execute_result"
        }
      ],
      "source": [
        "def divide_by_two(x):\n",
        "    return x / 2\n",
        "\n",
        "y = divide_by_two(12)\n",
        "\n",
        "y"
      ]
    },
    {
      "cell_type": "code",
      "execution_count": 22,
      "metadata": {
        "id": "x78PvuM4Hhh0"
      },
      "outputs": [
        {
          "data": {
            "text/plain": [
              "7"
            ]
          },
          "execution_count": 22,
          "metadata": {},
          "output_type": "execute_result"
        }
      ],
      "source": [
        "## Now it's your turn!  Write a new function that subtracts 7 from a number\n",
        "## and returns the result.  Assign the result of the function to a new\n",
        "## variable (your argument can be any number you want).\n",
        "\n",
        "def sum(x):\n",
        "    return x - 7\n",
        "result = sum(14)\n",
        "\n",
        "result\n",
        "\n",
        "\n"
      ]
    },
    {
      "cell_type": "code",
      "execution_count": null,
      "metadata": {},
      "outputs": [],
      "source": []
    },
    {
      "cell_type": "markdown",
      "metadata": {
        "collapsed": false,
        "id": "lim-9CMuHhh0"
      },
      "source": [
        "### Python and whitespace\n",
        "\n",
        "You may have noticed that the statements that follow the function definitions above are __indented__.  Python code obeys __whitespace__ for code organization.  In many languages, functions, loops, and conditional logic (which we'll get to next week), etc. are organized with curly braces, like the equivalent R code below:  \n",
        "\n",
        "```r\n",
        "divide_by_two <- function(x) {\n",
        "    return(x / 2)\n",
        "}\n",
        "```\n",
        "\n",
        "The R code, like in many languages, is organized in relation to the position of the curly braces, not the positioning of the code itself per se.  In Python, curly braces are not used in this capacity.  Instead, code is organized by indentation and whitespace.  Within a function definition, for example, the code to be executed by the function call should be indented with four spaces beneath the line that contains the `def` statement.  In many Python IDEs and the IPython Notebook, the software will already know this and indent your code accordingly.  In addition, the Tab key is set to be equivalent to the four spaces in most of these software packages as well.  Without proper indentation, however, your code will not run correctly."
      ]
    },
    {
      "cell_type": "code",
      "execution_count": 23,
      "metadata": {
        "id": "PqalnWcHHhh0",
        "outputId": "4b53ab64-6d98-4278-ac1f-b050c07d8485"
      },
      "outputs": [
        {
          "ename": "IndentationError",
          "evalue": "expected an indented block after function definition on line 1 (2058085116.py, line 2)",
          "output_type": "error",
          "traceback": [
            "\u001b[0;36m  Cell \u001b[0;32mIn[23], line 2\u001b[0;36m\u001b[0m\n\u001b[0;31m    return x / 3\u001b[0m\n\u001b[0m    ^\u001b[0m\n\u001b[0;31mIndentationError\u001b[0m\u001b[0;31m:\u001b[0m expected an indented block after function definition on line 1\n"
          ]
        }
      ],
      "source": [
        "def divide_by_three(x):\n",
        "return x / 3"
      ]
    },
    {
      "cell_type": "markdown",
      "metadata": {
        "collapsed": false,
        "id": "sWLkZ4LiHhh1"
      },
      "source": [
        "### Named arguments\n",
        "\n",
        "Later in the semester, we'll get started using external libraries to do our work, which have many pre-built functions for accomplishing data analysis tasks.  Many of these functions are very flexible - which means they have a lot of parameters!  It turn, it can be helpful to keep your code organized when you are working with multiple parameters in a function.  \n",
        "\n",
        "There are a couple ways to supply multiple arguments to a function in Python:\n",
        "\n",
        "* In the order they are specified in the function definition;\n",
        "* As _named_ arguments, in which both the parameter name and the argument are invoked.  \n",
        "\n",
        "I'll explain this further.  Let's define a function, `subtract`, that takes two numbers and will subtract the second number from the first.  "
      ]
    },
    {
      "cell_type": "code",
      "execution_count": 24,
      "metadata": {
        "id": "INMsBtpKHhh1"
      },
      "outputs": [],
      "source": [
        "def subtract(x, y):\n",
        "    return x - y"
      ]
    },
    {
      "cell_type": "markdown",
      "metadata": {
        "collapsed": false,
        "id": "XQdfOe48Hhh1"
      },
      "source": [
        "Now, we call the function by supplying two arguments to it:"
      ]
    },
    {
      "cell_type": "code",
      "execution_count": 25,
      "metadata": {
        "id": "SKWRWOJcHhh1",
        "outputId": "37c7688f-b6ca-4b04-b57b-3eaccb1625c9"
      },
      "outputs": [
        {
          "data": {
            "text/plain": [
              "4"
            ]
          },
          "execution_count": 25,
          "metadata": {},
          "output_type": "execute_result"
        }
      ],
      "source": [
        "subtract(11, 7)"
      ]
    },
    {
      "cell_type": "markdown",
      "metadata": {
        "collapsed": false,
        "id": "AzwwhAeHHhh1"
      },
      "source": [
        "We could get the same result by supplying _named_ arguments to the function, which take the form of `parameter = argument`:"
      ]
    },
    {
      "cell_type": "code",
      "execution_count": 26,
      "metadata": {
        "id": "B1yoz9sAHhh1",
        "outputId": "c76d2d37-a1ff-4164-bf37-daf448747773"
      },
      "outputs": [
        {
          "data": {
            "text/plain": [
              "4"
            ]
          },
          "execution_count": 26,
          "metadata": {},
          "output_type": "execute_result"
        }
      ],
      "source": [
        "subtract(x = 11, y = 7)"
      ]
    },
    {
      "cell_type": "markdown",
      "metadata": {
        "collapsed": false,
        "id": "oyngZhxJHhh1"
      },
      "source": [
        "Flipping the order of the arguments will give us a different result _unless_ we name the arguments accordingly.  Take a look:"
      ]
    },
    {
      "cell_type": "code",
      "execution_count": 27,
      "metadata": {
        "id": "gb7S5o4-Hhh1",
        "outputId": "090df895-a951-4bbd-b6fd-4612f8e806e6"
      },
      "outputs": [
        {
          "data": {
            "text/plain": [
              "-4"
            ]
          },
          "execution_count": 27,
          "metadata": {},
          "output_type": "execute_result"
        }
      ],
      "source": [
        "subtract(7, 11)"
      ]
    },
    {
      "cell_type": "code",
      "execution_count": 28,
      "metadata": {
        "id": "891r5KEOHhh1",
        "outputId": "6bae5708-35c5-46e8-96a8-5a1500948d71"
      },
      "outputs": [
        {
          "data": {
            "text/plain": [
              "4"
            ]
          },
          "execution_count": 28,
          "metadata": {},
          "output_type": "execute_result"
        }
      ],
      "source": [
        "subtract(y = 7, x = 11)"
      ]
    },
    {
      "cell_type": "markdown",
      "metadata": {
        "collapsed": false,
        "id": "qWMTs7rDHhh1"
      },
      "source": [
        "Be careful when mixing named and unnamed arguments, however.  When arguments are unnamed, Python assumes that you are supplying them in the order of the corresponding parameters in the function definition.  As such, you can mix named and unnamed arguments, but unnamed arguments cannot follow named arguments in a function call.  "
      ]
    },
    {
      "cell_type": "code",
      "execution_count": 29,
      "metadata": {
        "id": "1oXbczcUHhh1",
        "outputId": "f77dc099-2746-488b-ac77-108a5288ee43"
      },
      "outputs": [
        {
          "data": {
            "text/plain": [
              "4"
            ]
          },
          "execution_count": 29,
          "metadata": {},
          "output_type": "execute_result"
        }
      ],
      "source": [
        "subtract(11, y = 7)"
      ]
    },
    {
      "cell_type": "code",
      "execution_count": 30,
      "metadata": {
        "id": "fIGVDwYxHhh1",
        "outputId": "47c9ac39-6161-4abe-94a4-e997f36662ca"
      },
      "outputs": [
        {
          "ename": "SyntaxError",
          "evalue": "positional argument follows keyword argument (236700749.py, line 1)",
          "output_type": "error",
          "traceback": [
            "\u001b[0;36m  Cell \u001b[0;32mIn[30], line 1\u001b[0;36m\u001b[0m\n\u001b[0;31m    subtract(x = 11, 7)\u001b[0m\n\u001b[0m                      ^\u001b[0m\n\u001b[0;31mSyntaxError\u001b[0m\u001b[0;31m:\u001b[0m positional argument follows keyword argument\n"
          ]
        }
      ],
      "source": [
        "subtract(x = 11, 7)"
      ]
    },
    {
      "cell_type": "markdown",
      "metadata": {
        "collapsed": true,
        "id": "bSS7idXLHhh2"
      },
      "source": [
        "### Docstrings and documenting your code\n",
        "\n",
        "You've already learned how to use comments to document your code with the `#` operator, like this:\n",
        "\n",
        "```python\n",
        "# I just commented out this line!\n",
        "```\n",
        "\n",
        "Comments are generally best used for small descriptive statements about your code, or notes to yourself regarding something you'd like to remember.  More formal documentation of your code - e.g. what you functions are supposed to do - are best handled through __docstrings__.  Docstrings are enclosed in triple quotes (`\"\"\"`), and can go beneath the function definition to explain its components.  Let's try using a docstring to explain, in basic terms, the contents of our `subtract` function.  "
      ]
    },
    {
      "cell_type": "code",
      "execution_count": 31,
      "metadata": {
        "id": "mZf96wmUHhh2"
      },
      "outputs": [],
      "source": [
        "def subtract(x, y):\n",
        "    \"\"\"\n",
        "    Subtract one number from another.\n",
        "\n",
        "    Parameters:\n",
        "    -----------\n",
        "    x: The number you would like to subtract a quantity from (the minuend).\n",
        "    y: The quantity you would like to subtract from x (the subtrahend).\n",
        "    \"\"\"\n",
        "\n",
        "    return x - y"
      ]
    },
    {
      "cell_type": "markdown",
      "metadata": {
        "collapsed": false,
        "id": "mF27ApAxHhh2"
      },
      "source": [
        "You've now created a new function, `subtract()` with associated help documentation.  To view the documentation, you can use the built-in `help()` function to print the docstring, or type the function name followed by a question mark to pop up the documentation at the bottom of the screen.  Try it out!"
      ]
    },
    {
      "cell_type": "code",
      "execution_count": 32,
      "metadata": {
        "id": "HN3I9l7eHhh2",
        "outputId": "6affdaee-7145-448b-f8e3-bb05707e1982"
      },
      "outputs": [
        {
          "name": "stdout",
          "output_type": "stream",
          "text": [
            "Help on function subtract in module __main__:\n",
            "\n",
            "subtract(x, y)\n",
            "    Subtract one number from another.\n",
            "\n",
            "    Parameters:\n",
            "    -----------\n",
            "    x: The number you would like to subtract a quantity from (the minuend).\n",
            "    y: The quantity you would like to subtract from x (the subtrahend).\n",
            "\n"
          ]
        }
      ],
      "source": [
        "help(subtract)"
      ]
    },
    {
      "cell_type": "code",
      "execution_count": 33,
      "metadata": {
        "id": "mEWIfoOTHhh2"
      },
      "outputs": [
        {
          "name": "stdout",
          "output_type": "stream",
          "text": [
            "\u001b[0;31mSignature:\u001b[0m \u001b[0msubtract\u001b[0m\u001b[0;34m(\u001b[0m\u001b[0mx\u001b[0m\u001b[0;34m,\u001b[0m \u001b[0my\u001b[0m\u001b[0;34m)\u001b[0m\u001b[0;34m\u001b[0m\u001b[0;34m\u001b[0m\u001b[0m\n",
            "\u001b[0;31mDocstring:\u001b[0m\n",
            "Subtract one number from another.\n",
            "\n",
            "Parameters:\n",
            "-----------\n",
            "x: The number you would like to subtract a quantity from (the minuend).\n",
            "y: The quantity you would like to subtract from x (the subtrahend).\n",
            "\u001b[0;31mFile:\u001b[0m      /var/folders/b3/p6_4jqm15mdd_rc2hs1f6lm00000gn/T/ipykernel_48832/109790603.py\n",
            "\u001b[0;31mType:\u001b[0m      function"
          ]
        }
      ],
      "source": [
        "subtract?"
      ]
    },
    {
      "cell_type": "code",
      "execution_count": 34,
      "metadata": {
        "id": "1RZW5B-wHhh2"
      },
      "outputs": [
        {
          "data": {
            "text/plain": [
              "20"
            ]
          },
          "execution_count": 34,
          "metadata": {},
          "output_type": "execute_result"
        }
      ],
      "source": [
        "# Now it is your turn!\n",
        "\n",
        "# Create a new function, \"multiply\", that multiplies two numbers together.\n",
        "# Write a docstring in the function definition that describes what the function does,\n",
        "# and explains the parameters to the user.\n",
        "# Run your function and call it to test it out.\n",
        "\n",
        "def multiply(num1,num2):\n",
        "    \"\"\"\n",
        "    multiplies two numbers\n",
        "\n",
        "    Parameters:\n",
        "    -----------\n",
        "    num1: first number of the multiplication\n",
        "    num2: second number of the Multiplication\n",
        "    \n",
        "    \"\"\"\n",
        "    return num1 * num2\n",
        "\n",
        "multiply(4,5)\n",
        "    "
      ]
    },
    {
      "cell_type": "markdown",
      "metadata": {
        "collapsed": false,
        "id": "9zrRYOgqHhh2"
      },
      "source": [
        "### Booleans and conditional statements\n",
        "\n",
        "The above functions we've written perform the same operations for any input values that are passed to them.  When writing programs, however, you'll often have to design them to be flexible to user input where outcomes may vary based on what users supply to the program.  In regards to data analysis, you might want to produce a particular type of chart if the data are structured a certain way, which wouldn't work in another scenario.  You can build this type of logic into your programs with __conditional statements__.  \n",
        "\n",
        "Before we get into this, however, I want to introduce __booleans__ in Python.  You may have heard this term before in other classes.  Booleans in Python are the values `True` and `False`; they can be used to evaluate, understandably, if a condition is true or not.  For example:"
      ]
    },
    {
      "cell_type": "code",
      "execution_count": 35,
      "metadata": {
        "id": "lhQQCPWEHhh2",
        "outputId": "aa1dc50d-ebc4-4bd4-81f6-f32d61109273"
      },
      "outputs": [
        {
          "data": {
            "text/plain": [
              "True"
            ]
          },
          "execution_count": 35,
          "metadata": {},
          "output_type": "execute_result"
        }
      ],
      "source": [
        "3 > 2"
      ]
    },
    {
      "cell_type": "code",
      "execution_count": 36,
      "metadata": {
        "id": "IOEm7nKAHhh2",
        "outputId": "5f0c54e9-61ba-41ef-db79-f58e33e74e9c"
      },
      "outputs": [
        {
          "data": {
            "text/plain": [
              "False"
            ]
          },
          "execution_count": 36,
          "metadata": {},
          "output_type": "execute_result"
        }
      ],
      "source": [
        "2 > 3"
      ]
    },
    {
      "cell_type": "code",
      "execution_count": 37,
      "metadata": {
        "id": "XiQT4AQ9Hhh6",
        "outputId": "64781ece-3ae5-4152-b8e0-1c79e5876875"
      },
      "outputs": [
        {
          "data": {
            "text/plain": [
              "False"
            ]
          },
          "execution_count": 37,
          "metadata": {},
          "output_type": "execute_result"
        }
      ],
      "source": [
        "2 == 3"
      ]
    },
    {
      "cell_type": "code",
      "execution_count": 38,
      "metadata": {
        "id": "U15qlqLJHhh6",
        "outputId": "8f13a1d9-691e-4447-b293-3d39dfe2a267"
      },
      "outputs": [
        {
          "data": {
            "text/plain": [
              "True"
            ]
          },
          "execution_count": 38,
          "metadata": {},
          "output_type": "execute_result"
        }
      ],
      "source": [
        "2 != 3"
      ]
    },
    {
      "cell_type": "markdown",
      "metadata": {
        "collapsed": false,
        "id": "d0IEQu1_Hhh6"
      },
      "source": [
        "In the above lines of code, we used basic mathematical operators to see if conditions are true or false.  When we asked Python if 3 is greater than 2, it told us it was True; when we asked it if 2 is greater than 3, it said False.  Such true/false logic can be used with conditional statements in your code.  To do this, you'll often use __conditional operators__, which you'll be familiar with from basic mathematics, possibly with a couple exceptions.  Conditional operators in Python are as follows:\n",
        "\n",
        "* `<` Less than\n",
        "* `>` Greater than\n",
        "* `<=` Less than or equal to\n",
        "* `>=` Greater than or equal to\n",
        "* `==` Is equal to\n",
        "* `!=` Is not equal to\n",
        "\n",
        "As humans, we use conditional logic all of the time without really thinking about it.  For example, __if__ I am hungry, I'll probably go eat something; otherwise, I won't.  Such logic can be expressed in Python as a series of `if`, `elif` (which means _else if_), and `else` statements.  \n",
        "\n",
        "Let's try to express this now in code in basic terms.  This is made-up code, so we don't need to understand everything, but here are the basics of it.  We define a function, `hungry`, that measures the biological/psychological properties that govern hunger reflexes in the human body.  We say, hypothetically, that a hunger index value encapsulating these properties that exceeds 100 means that a person is hungry; in turn, the function returns `True`.  Otherwise, it returns `False`."
      ]
    },
    {
      "cell_type": "code",
      "execution_count": null,
      "metadata": {
        "id": "PQN6LQPzHhh6",
        "outputId": "ea765135-b050-4eac-aeed-2ac934b882f3"
      },
      "outputs": [
        {
          "data": {
            "text/plain": [
              "True"
            ]
          },
          "execution_count": 26,
          "metadata": {},
          "output_type": "execute_result"
        }
      ],
      "source": [
        "def hungry(hunger_index):\n",
        "    if hunger_index > 100:\n",
        "        return True\n",
        "    else:\n",
        "        return False\n",
        "\n",
        "hungry(103)"
      ]
    },
    {
      "cell_type": "code",
      "execution_count": null,
      "metadata": {
        "id": "ue5qbd2KHhh6",
        "outputId": "96fbf7e4-a94e-4db3-ca9a-02004598ece9"
      },
      "outputs": [
        {
          "data": {
            "text/plain": [
              "False"
            ]
          },
          "execution_count": 27,
          "metadata": {},
          "output_type": "execute_result"
        }
      ],
      "source": [
        "hungry(88)"
      ]
    },
    {
      "cell_type": "markdown",
      "metadata": {
        "collapsed": false,
        "id": "D6RD4qTrHhh6"
      },
      "source": [
        "We can then pass a variable `kyle`, which represents my hunger index, to the function.  The function then checks to see if I am hungry, and returns `True` if I am, and `False` otherwise.  These results can then be embedded in other workflows, in which you program Python to perform different tasks depending on the function results.  For example:\n",
        "\n",
        "```python\n",
        "if hungry(kyle):  \n",
        "    eat()\n",
        "else:\n",
        "    stay_put()\n",
        "```\n",
        "\n",
        "As you can see above, this can be simplified in Python as the code `if hungry(kyle)` checks to see if the returned value is `True`.  If I am hungry, the code calls an unseen `eat()` function telling me to go eat; otherwise, it tells me to stay put with an unseen `stay_put()` function.  \n",
        "\n",
        "Simple enough, right?  Not quite.  I'm hungry right now, but I'm not currently eating.  Why is that the case?  Well... I have to get this assignment written for you!  While I am hungry, my level of hunger is not so debilitating that I am unable to work, and I know that finishing my work is a higher priority than eating at the moment.  In reality, there are countless conditions that influence whether we eat or not beyond simply how hungry we are.  For example - is there food accessible?  Are you in a place where it is socially acceptable to eat?  Perhaps you are at a party where pizza is available - you aren't hungry, but you eat it anyway?  Your brain processes all of this conditional logic at once as you make decisions, so we aren't always used to thinking explicitly about conditionals in such discrete ways.  However, to get a computer to understand this, you have to make it explicit in your code!\n",
        "\n",
        "The `hungry` function we defined above used conditional logic, telling Python to return `True` or `False` depending on the value of the hunger index.  Note that the `if` statement starts on a new indented line of code beneath the function definition, and itself is followed by a colon; the code associated with the `if` statement then follows on another, indented line of code.  The same goes for the `else` statement beneath it.  You should be getting a sense now of style rules in Python, and the importance of whitespace for code organization, which applies to conditional statements as well.  \n",
        "\n",
        "Now I'd like you to try to replicate this yourself!  Define a function called `greater_than_two` that checks to see if a number is greater than 2 or not.  Call the function.  "
      ]
    },
    {
      "cell_type": "code",
      "execution_count": 44,
      "metadata": {
        "id": "sLUKSEDqHhh6"
      },
      "outputs": [
        {
          "data": {
            "text/plain": [
              "True"
            ]
          },
          "execution_count": 44,
          "metadata": {},
          "output_type": "execute_result"
        }
      ],
      "source": [
        "### Your code goes here!\n",
        "def greater_than_two(greater):\n",
        "    if greater > 2:\n",
        "        return True\n",
        "    else:\n",
        "        return False\n",
        "greater_than_two(5)"
      ]
    },
    {
      "cell_type": "markdown",
      "metadata": {
        "collapsed": false,
        "id": "XBNkGfCYHhh6"
      },
      "source": [
        "### Loops\n",
        "\n",
        "In programming, you will often want to do an operation multiple times, or carry out some process over a list of values that you've created.  To do this, you will frequently turn to __iterators__.  \n",
        "\n",
        "The most commonly used iterators in Python are `for` and `while`.  A `for` loop carries out an action, or set of actions, for every element that you tell it to.  Let's give it a try in very simple terms.  I've created a list of teams in the Big 12 below; we'll loop through this list with `for` and concatenate another string to each element.  "
      ]
    },
    {
      "cell_type": "code",
      "execution_count": 45,
      "metadata": {
        "id": "CE24g05cHhh7"
      },
      "outputs": [],
      "source": [
        "big12 = [\"TCU Horned Frogs\", \"Baylor Bears\", \"Oklahoma Sooners\", \"Oklahoma State Cowboys\", \"Texas Longhorns\",\n",
        "         \"Texas Tech Red Raiders\", \"West Virginia Mountaineers\", \"Kansas Jayhawks\", \"Kansas State Wildcats\",\n",
        "         \"Iowa State Cyclones\"]"
      ]
    },
    {
      "cell_type": "code",
      "execution_count": 46,
      "metadata": {
        "id": "GoJlD3JwHhh7",
        "outputId": "788138b6-caaf-4a87-9439-63fe5fdaeafa"
      },
      "outputs": [
        {
          "name": "stdout",
          "output_type": "stream",
          "text": [
            "TCU Horned Frogs are in the Big 12.\n",
            "Baylor Bears are in the Big 12.\n",
            "Oklahoma Sooners are in the Big 12.\n",
            "Oklahoma State Cowboys are in the Big 12.\n",
            "Texas Longhorns are in the Big 12.\n",
            "Texas Tech Red Raiders are in the Big 12.\n",
            "West Virginia Mountaineers are in the Big 12.\n",
            "Kansas Jayhawks are in the Big 12.\n",
            "Kansas State Wildcats are in the Big 12.\n",
            "Iowa State Cyclones are in the Big 12.\n"
          ]
        }
      ],
      "source": [
        "for team in big12: # You can read this here as \"for every team in the Big 12....\n",
        "    print(team + \" are in the Big 12.\") # ... print the name of the team along with \"are in the Big 12.\""
      ]
    },
    {
      "cell_type": "markdown",
      "metadata": {
        "collapsed": false,
        "id": "TRI4FXWkHhh7"
      },
      "source": [
        "A couple notes about the above code.  Notice that I'm using `team` as a temporary variable that will successively store each value of the list as we loop through it.  This variable, `team`, takes on each value of the list in turn; and presently stores the last value of the list."
      ]
    },
    {
      "cell_type": "code",
      "execution_count": 47,
      "metadata": {
        "id": "FxuL1qvSHhh7",
        "outputId": "3c10f57c-9bd0-4577-f7f5-5cb5acad910e"
      },
      "outputs": [
        {
          "data": {
            "text/plain": [
              "'Iowa State Cyclones'"
            ]
          },
          "execution_count": 47,
          "metadata": {},
          "output_type": "execute_result"
        }
      ],
      "source": [
        "team"
      ]
    },
    {
      "cell_type": "markdown",
      "metadata": {
        "collapsed": false,
        "id": "0_6vyI9ZHhh7"
      },
      "source": [
        "As such, this is how the `for` loop works.  `for` tells Python to evaluate every element of the list `big12`; these elements will be represented by the variable `team`.  The loop then walks through the list `big12` and prints the specified text __for__ every element in the list.  This `for` loop is equivalent, then, to:\n",
        "\n",
        "```python\n",
        "print(\"TCU Horned Frogs are in the Big 12\")\n",
        "print(\"Baylor Bears are in the Big 12\")\n",
        "print(\"Oklahoma Sooners are in the Big 12\")\n",
        "\n",
        "# ... and so forth\n",
        "\n",
        "```\n",
        "\n",
        "but you don't really want to do that manually, especially when you might have thousands of strings to evaluate.  In turn, the `for` loop does the work for you, which is one of the main benefits of programming.  \n",
        "\n",
        "Also, I'd like you to notice the structure of the loop.  Like functions, loops obey __whitespace__ rules for code organization, and will fail if your code is not properly indented.  The first line of the loop - in this case `for team in big12` - is not indented, and is followed by a colon.  Everything else contained in the loop is found in an indented block on the line(s) following the `for` loop call.  As with functions, your loop will fail without proper indentation.  "
      ]
    },
    {
      "cell_type": "code",
      "execution_count": null,
      "metadata": {
        "id": "wXP3FuU_Hhh7",
        "outputId": "92bbd27f-78e2-45de-d0ac-6880bba30932"
      },
      "outputs": [
        {
          "ename": "IndentationError",
          "evalue": "expected an indented block (<ipython-input-30-179f186a68c1>, line 2)",
          "output_type": "error",
          "traceback": [
            "\u001b[0;36m  File \u001b[0;32m\"<ipython-input-30-179f186a68c1>\"\u001b[0;36m, line \u001b[0;32m2\u001b[0m\n\u001b[0;31m    print(team + \" are in the Big 12.\")\u001b[0m\n\u001b[0m        ^\u001b[0m\n\u001b[0;31mIndentationError\u001b[0m\u001b[0;31m:\u001b[0m expected an indented block\n"
          ]
        }
      ],
      "source": [
        "for team in big12:\n",
        "print(team + \" are in the Big 12.\")"
      ]
    },
    {
      "cell_type": "markdown",
      "metadata": {
        "collapsed": false,
        "id": "v35b11cwHhh8"
      },
      "source": [
        "Now let's say you want to create a new list of the \"...are in the Big 12\" elements.  There are a couple ways to do this.  In the first, you define an empty list object, then populate the list with the for loop and the `append` method, as shown below.  "
      ]
    },
    {
      "cell_type": "code",
      "execution_count": 48,
      "metadata": {
        "id": "CkwpIHW9Hhh8",
        "outputId": "2d4d8c37-d243-4a1e-fdf5-e8bbc5a00da7"
      },
      "outputs": [
        {
          "data": {
            "text/plain": [
              "['TCU Horned Frogs are in the Big 12.',\n",
              " 'Baylor Bears are in the Big 12.',\n",
              " 'Oklahoma Sooners are in the Big 12.',\n",
              " 'Oklahoma State Cowboys are in the Big 12.',\n",
              " 'Texas Longhorns are in the Big 12.',\n",
              " 'Texas Tech Red Raiders are in the Big 12.',\n",
              " 'West Virginia Mountaineers are in the Big 12.',\n",
              " 'Kansas Jayhawks are in the Big 12.',\n",
              " 'Kansas State Wildcats are in the Big 12.',\n",
              " 'Iowa State Cyclones are in the Big 12.']"
            ]
          },
          "execution_count": 48,
          "metadata": {},
          "output_type": "execute_result"
        }
      ],
      "source": [
        "teams = [] # The empty brackets designate an empty list, which you'll fill up with the loop.\n",
        "\n",
        "for team in big12:\n",
        "    teams.append(team + \" are in the Big 12.\")\n",
        "\n",
        "teams"
      ]
    },
    {
      "cell_type": "markdown",
      "metadata": {
        "collapsed": false,
        "id": "44Tsa1q4Hhh8"
      },
      "source": [
        "You can also do the same thing with something called __list comprehension__.  List comprehension allows for the creation of a new list with one line of code.  In this case, the `for` loop is embedded within the statement you make.  Below is an example:"
      ]
    },
    {
      "cell_type": "code",
      "execution_count": null,
      "metadata": {
        "id": "4z6wALnoHhh8",
        "outputId": "670ecd58-902c-40e5-9ded-b2f615242a71"
      },
      "outputs": [
        {
          "data": {
            "text/plain": [
              "['TCU Horned Frogs are in the Big 12.',\n",
              " 'Baylor Bears are in the Big 12.',\n",
              " 'Oklahoma Sooners are in the Big 12.',\n",
              " 'Oklahoma State Cowboys are in the Big 12.',\n",
              " 'Texas Longhorns are in the Big 12.',\n",
              " 'Texas Tech Red Raiders are in the Big 12.',\n",
              " 'West Virginia Mountaineers are in the Big 12.',\n",
              " 'Kansas Jayhawks are in the Big 12.',\n",
              " 'Kansas State Wildcats are in the Big 12.',\n",
              " 'Iowa State Cyclones are in the Big 12.']"
            ]
          },
          "execution_count": 32,
          "metadata": {},
          "output_type": "execute_result"
        }
      ],
      "source": [
        "teams2 = [team + \" are in the Big 12.\" for team in big12]\n",
        "\n",
        "teams2"
      ]
    },
    {
      "cell_type": "markdown",
      "metadata": {
        "collapsed": false,
        "id": "iQY5nGHDHhh8"
      },
      "source": [
        "You can use methods and functions in your list comprehension as well, as in the example below:"
      ]
    },
    {
      "cell_type": "code",
      "execution_count": null,
      "metadata": {
        "id": "7jKhbtTMHhh8",
        "outputId": "a3db6513-88cc-4327-d108-fe4fda214049"
      },
      "outputs": [
        {
          "data": {
            "text/plain": [
              "['tcu hORNED fROGS',\n",
              " 'bAYLOR bEARS',\n",
              " 'oKLAHOMA sOONERS',\n",
              " 'oKLAHOMA sTATE cOWBOYS',\n",
              " 'tEXAS lONGHORNS',\n",
              " 'tEXAS tECH rED rAIDERS',\n",
              " 'wEST vIRGINIA mOUNTAINEERS',\n",
              " 'kANSAS jAYHAWKS',\n",
              " 'kANSAS sTATE wILDCATS',\n",
              " 'iOWA sTATE cYCLONES']"
            ]
          },
          "execution_count": 33,
          "metadata": {},
          "output_type": "execute_result"
        }
      ],
      "source": [
        "swap = [name.swapcase() for name in big12]\n",
        "\n",
        "swap"
      ]
    },
    {
      "cell_type": "markdown",
      "metadata": {
        "collapsed": false,
        "id": "YLGmwOegHhh8"
      },
      "source": [
        "Loops also work for strings - though in this case the loop will iterate through each character contained in your string.  An example:"
      ]
    },
    {
      "cell_type": "code",
      "execution_count": null,
      "metadata": {
        "id": "IU9lvdcVHhh8",
        "outputId": "0417d20a-65b6-4bdd-8d9d-57c0a8a27373"
      },
      "outputs": [
        {
          "name": "stdout",
          "output_type": "stream",
          "text": [
            "The index of T is 0\n",
            "The index of e is 1\n",
            "The index of x is 2\n",
            "The index of a is 3\n",
            "The index of s is 4\n",
            "The index of   is 5\n",
            "The index of C is 6\n",
            "The index of h is 7\n",
            "The index of r is 8\n",
            "The index of i is 9\n",
            "The index of s is 10\n",
            "The index of t is 11\n",
            "The index of i is 12\n",
            "The index of a is 13\n",
            "The index of n is 14\n",
            "The index of   is 15\n",
            "The index of U is 16\n",
            "The index of n is 17\n",
            "The index of i is 18\n",
            "The index of v is 19\n",
            "The index of e is 20\n",
            "The index of r is 21\n",
            "The index of s is 22\n",
            "The index of i is 23\n",
            "The index of t is 24\n",
            "The index of y is 25\n"
          ]
        }
      ],
      "source": [
        "tcu = \"Texas Christian University\"\n",
        "\n",
        "idx = 0\n",
        "for character in tcu:\n",
        "    print(\"The index of \" + character + \" is \" + str(idx))\n",
        "    idx = idx + 1"
      ]
    },
    {
      "cell_type": "markdown",
      "metadata": {
        "collapsed": false,
        "id": "zaf54tRzHhh9"
      },
      "source": [
        "#### The `while` loop\n",
        "\n",
        "`for` is not the only loop you'll come across in Python.  You can also specify a `while` loop, which will run a loop until a given condition is satisfied.  I'll give you an example below.  Let's say you only want to return the first five elements of your list.  While you could do this with indexing (which is simpler), let's try the `while` loop instead."
      ]
    },
    {
      "cell_type": "code",
      "execution_count": null,
      "metadata": {
        "id": "JD3VmgGmHhh9",
        "outputId": "641599d2-c4cc-46fd-8800-1e1e38b6e0f7"
      },
      "outputs": [
        {
          "data": {
            "text/plain": [
              "['TCU Horned Frogs',\n",
              " 'Baylor Bears',\n",
              " 'Oklahoma Sooners',\n",
              " 'Oklahoma State Cowboys',\n",
              " 'Texas Longhorns']"
            ]
          },
          "execution_count": 35,
          "metadata": {},
          "output_type": "execute_result"
        }
      ],
      "source": [
        "newlist = []\n",
        "\n",
        "i = 0\n",
        "\n",
        "while i < 5:\n",
        "    newlist.append(big12[i])\n",
        "    i = i + 1\n",
        "\n",
        "newlist"
      ]
    },
    {
      "cell_type": "markdown",
      "metadata": {
        "collapsed": false,
        "id": "uGK8SW4DHhh9"
      },
      "source": [
        "Have a look at what we did.  We created an empty list, and set a new variable, `i`, to 0.  We then looped through the elements of the list index by index, adding 1 to `i` with each run of the loop, and then stopping the code when `i` became equal to 5.  In turn, we got back the elements of the `big12` list indexed 0 to 4, which are the first five elements.  \n",
        "\n",
        "Be careful with while loops, however.  If you don't specify them correctly, you can get stuck in an infinite loop, which will not stop!  For example, if we had not continued to add 1 to `i`, the loop would have never stopped and would have kept iterating through the list.  This can cause your computer to lock up, as it is infinitely trying to carry out an operation!  I've been there a few times..."
      ]
    },
    {
      "cell_type": "markdown",
      "metadata": {
        "collapsed": false,
        "id": "U2f68ch3Hhh9"
      },
      "source": [
        "## Problems to solve\n",
        "\n",
        "\n",
        "\n",
        "__Problem 1:__ Explain, in your own words, the difference between using `print` and `return` for the output of a function.  Write your response below, in this Markdown cell.  \n"
      ]
    },
    {
      "cell_type": "markdown",
      "metadata": {},
      "source": [
        "The return is used to give back the value from the function whicle print is usdes tp display output."
      ]
    },
    {
      "cell_type": "markdown",
      "metadata": {
        "collapsed": false,
        "id": "75DuVmppHhh9"
      },
      "source": [
        "__Problem 2:__ Write a function called `make_big` that takes a lowercase string as input and prints the string with all capital letters.  Create a new variable and assign to it a string with all lowercase letters, then call the `make_big` function with that variable as its argument.  "
      ]
    },
    {
      "cell_type": "code",
      "execution_count": 54,
      "metadata": {
        "collapsed": true,
        "id": "Q_fvTZDiHhh9"
      },
      "outputs": [
        {
          "name": "stdout",
          "output_type": "stream",
          "text": [
            "HOW ARE YOU DOING TODAY?\n"
          ]
        }
      ],
      "source": [
        "# Your answer goes here!\n",
        "def make_big(capital):\n",
        "    print(capital.upper())\n",
        "num = \"How are you doing today?\"\n",
        "make_big(num)\n",
        "\n",
        "\n",
        "\n"
      ]
    },
    {
      "cell_type": "markdown",
      "metadata": {
        "collapsed": false,
        "id": "MZH96YItHhh9"
      },
      "source": [
        "__Problem 3:__  Write a function called `first_word` that takes a list of character strings as input and returns the first element of the list in alphabetical order.  For example, your function should work like this:\n",
        "\n",
        "```python\n",
        "\n",
        "students = ['Mary', 'Zelda', 'Jimmy', 'Jack', 'Bartholomew', 'Gertrude']\n",
        "\n",
        "first_word(students)\n",
        "\n",
        "'Bartholomew' # The result\n",
        "\n",
        "```\n",
        "\n",
        "_Hint:_ You'll need to first sort your list in the function to accomplish this, then identify the first element.  Within a function, it is a good idea to use multiple lines of code to separate out the different steps.  Just make sure all the code that belongs to the function is indented!\n",
        "\n",
        "After you've written the function, run it by supplying the list `teams` to your function as an argument to test it.  "
      ]
    },
    {
      "cell_type": "code",
      "execution_count": 60,
      "metadata": {
        "id": "04DzXAd_Hhh9"
      },
      "outputs": [
        {
          "name": "stdout",
          "output_type": "stream",
          "text": [
            "['Stars', 'Cowboys', 'Rangers', 'Mavericks', 'FC Dallas']\n"
          ]
        }
      ],
      "source": [
        "teams = ['Stars', 'Cowboys', 'Rangers', 'Mavericks', 'FC Dallas']\n",
        "\n",
        "# Your code goes below!\n",
        "\n",
        "def first_word(num):\n",
        "    if not num:\n",
        "        return None\n",
        "    else:\n",
        "        return num\n",
        "num2 = first_word(teams)\n",
        "print(num2)\n",
        "    "
      ]
    },
    {
      "cell_type": "markdown",
      "metadata": {
        "collapsed": false,
        "id": "zi2iXcdqHhh9"
      },
      "source": [
        "__Problem 4:__ Explain, in your own words, the difference between a `for` loop and a `while` loop.  Write your response below in this Markdown cell.  "
      ]
    },
    {
      "cell_type": "markdown",
      "metadata": {},
      "source": [
        "For loop is used when code is known and while loop is used when certain condition is true. "
      ]
    },
    {
      "cell_type": "code",
      "execution_count": null,
      "metadata": {
        "id": "AeErD24dHhh-"
      },
      "outputs": [],
      "source": [
        "## Your code goes here!\n"
      ]
    },
    {
      "cell_type": "markdown",
      "metadata": {
        "collapsed": false,
        "id": "TPAnG1soHhh-"
      },
      "source": [
        "__Problem 5__: Sequences of numbers in Python can be generated by typing them out, as you've learned how to do in this class.  However, they can also be produced by the built-in `range` function, which can simplify things for you significantly if you need to generate a long list of integers.  `range` has three parameters: `start`, which is the first integer you want to start with; `stop`, which is the first integer you __don't__ want to include, and `step`, which optionally specifies the integer interval.  For example:"
      ]
    },
    {
      "cell_type": "code",
      "execution_count": 61,
      "metadata": {
        "id": "hRY_RxMZHhh-"
      },
      "outputs": [
        {
          "data": {
            "text/plain": [
              "range(1, 21, 5)"
            ]
          },
          "execution_count": 61,
          "metadata": {},
          "output_type": "execute_result"
        }
      ],
      "source": [
        "x = range(1, 21, 5)\n",
        "\n",
        "x"
      ]
    },
    {
      "cell_type": "code",
      "execution_count": 62,
      "metadata": {
        "id": "lDS97B55Hhh-"
      },
      "outputs": [
        {
          "data": {
            "text/plain": [
              "range"
            ]
          },
          "execution_count": 62,
          "metadata": {},
          "output_type": "execute_result"
        }
      ],
      "source": [
        "type(x)"
      ]
    },
    {
      "cell_type": "markdown",
      "metadata": {
        "collapsed": false,
        "id": "wrqVK7RJHhh_"
      },
      "source": [
        "We've created a __range__ object which conforms to the arguments we supplied to the `range` function.  Notably, the range object can be looped through:"
      ]
    },
    {
      "cell_type": "code",
      "execution_count": 63,
      "metadata": {
        "id": "VNeFxVNjHhh_"
      },
      "outputs": [
        {
          "name": "stdout",
          "output_type": "stream",
          "text": [
            "1\n",
            "6\n",
            "11\n",
            "16\n"
          ]
        }
      ],
      "source": [
        "for y in x:\n",
        "    print(y)"
      ]
    },
    {
      "cell_type": "markdown",
      "metadata": {
        "collapsed": false,
        "id": "GAQpma9CHhh_"
      },
      "source": [
        "If need be, your range object can also be converted to a list with the `list` function.  "
      ]
    },
    {
      "cell_type": "code",
      "execution_count": 64,
      "metadata": {
        "id": "xYY-dNECHhh_"
      },
      "outputs": [
        {
          "data": {
            "text/plain": [
              "[1, 6, 11, 16]"
            ]
          },
          "execution_count": 64,
          "metadata": {},
          "output_type": "execute_result"
        }
      ],
      "source": [
        "list(x)"
      ]
    },
    {
      "cell_type": "markdown",
      "metadata": {
        "collapsed": false,
        "id": "rRXikhV0Hhh_"
      },
      "source": [
        "Your job in Exercise 3 is to use the `range` function to print the following text to the screen:\n",
        "\n",
        "```\n",
        "2!\n",
        "4!\n",
        "6!\n",
        "8!\n",
        "Who do we appreciate?\n",
        "```\n",
        "\n",
        "The printing of the numbers should be done in a loop over the numbers generated by the `range` function.  "
      ]
    },
    {
      "cell_type": "code",
      "execution_count": 65,
      "metadata": {
        "id": "fB_0WsipHhiA"
      },
      "outputs": [
        {
          "name": "stdout",
          "output_type": "stream",
          "text": [
            "2!\n",
            "4!\n",
            "6!\n",
            "8!\n",
            "Who do we appreciate?\n"
          ]
        }
      ],
      "source": [
        "## Your code goes here!\n",
        "for number in range(2, 9, 2):\n",
        "    print(f'{number}!')\n",
        "print(\"Who do we appreciate?\")"
      ]
    }
  ],
  "metadata": {
    "colab": {
      "provenance": []
    },
    "kernelspec": {
      "display_name": "Python 3 (system-wide)",
      "language": "python",
      "metadata": {
        "cocalc": {
          "description": "Python 3 programming language",
          "priority": 100,
          "url": "https://www.python.org/"
        }
      },
      "name": "python3"
    },
    "language_info": {
      "codemirror_mode": {
        "name": "ipython",
        "version": 3
      },
      "file_extension": ".py",
      "mimetype": "text/x-python",
      "name": "python",
      "nbconvert_exporter": "python",
      "pygments_lexer": "ipython3",
      "version": "3.12.1"
    }
  },
  "nbformat": 4,
  "nbformat_minor": 0
}
